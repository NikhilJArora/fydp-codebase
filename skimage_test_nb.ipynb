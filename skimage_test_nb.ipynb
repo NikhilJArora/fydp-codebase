{
 "cells": [
  {
   "cell_type": "code",
   "execution_count": 93,
   "metadata": {
    "collapsed": true
   },
   "outputs": [],
   "source": [
    "#imports \n",
    "\n",
    "import os\n",
    "import sys\n",
    "\n",
    "from PIL import Image\n",
    "import numpy as np\n",
    "\n",
    "from skimage import io, color, filters\n"
   ]
  },
  {
   "cell_type": "code",
   "execution_count": 94,
   "metadata": {
    "collapsed": true
   },
   "outputs": [],
   "source": [
    "#Constants:\n",
    "#data wd:\n",
    "WD = '/Users/nikhilarora/data/fydp/sb_images'\n"
   ]
  },
  {
   "cell_type": "code",
   "execution_count": 87,
   "metadata": {},
   "outputs": [
    {
     "name": "stdout",
     "output_type": "stream",
     "text": [
      "(3024, 4032, 3)\n"
     ]
    }
   ],
   "source": [
    "img_car = io.imread(os.path.join(WD + '/IMG_9769.JPG'))\n",
    "#img_car = np.uint8(color.rgb2gray(img_car) * 255)\n",
    "print(img_car.shape)\n",
    "img_ncar = io.imread(WD + '/IMG_9769.JPG')"
   ]
  },
  {
   "cell_type": "code",
   "execution_count": 88,
   "metadata": {},
   "outputs": [
    {
     "name": "stderr",
     "output_type": "stream",
     "text": [
      "/Users/nikhilarora/anaconda/lib/python3.6/site-packages/skimage/filters/thresholding.py:271: UserWarning: threshold_otsu is expected to work correctly only for grayscale images; image shape (3024, 4032, 3) looks like an RGB image\n",
      "  warn(msg.format(image.shape))\n"
     ]
    },
    {
     "data": {
      "text/plain": [
       "118"
      ]
     },
     "execution_count": 88,
     "metadata": {},
     "output_type": "execute_result"
    }
   ],
   "source": [
    "threshold_value = filters.threshold_otsu(img_car)\n",
    "threshold_value"
   ]
  },
  {
   "cell_type": "code",
   "execution_count": 89,
   "metadata": {},
   "outputs": [
    {
     "name": "stdout",
     "output_type": "stream",
     "text": [
      "(3024, 4032, 3)\n",
      "(3024, 4032, 3)\n"
     ]
    }
   ],
   "source": [
    "print(img_car.shape)\n",
    "print(img_ncar.shape)"
   ]
  },
  {
   "cell_type": "code",
   "execution_count": 90,
   "metadata": {},
   "outputs": [],
   "source": [
    "display_car = Image.fromarray(img_car, 'RGB') #print greyscale image...\n",
    "#display_ncar = Image.fromarray(img_ncar)\n",
    "display_car.show()\n",
    "#display_ncar.show()"
   ]
  },
  {
   "cell_type": "code",
   "execution_count": 92,
   "metadata": {},
   "outputs": [
    {
     "name": "stdout",
     "output_type": "stream",
     "text": [
      "[[[132 121  93]\n",
      "  [130 119  91]\n",
      "  [126 115  87]\n",
      "  ..., \n",
      "  [157 146 118]\n",
      "  [156 145 117]\n",
      "  [156 145 117]]\n",
      "\n",
      " [[126 115  87]\n",
      "  [124 113  85]\n",
      "  [125 114  86]\n",
      "  ..., \n",
      "  [155 144 116]\n",
      "  [154 143 115]\n",
      "  [155 144 116]]\n",
      "\n",
      " [[123 112  84]\n",
      "  [122 111  83]\n",
      "  [123 112  84]\n",
      "  ..., \n",
      "  [158 147 119]\n",
      "  [157 146 118]\n",
      "  [156 145 117]]\n",
      "\n",
      " ..., \n",
      " [[123 112  94]\n",
      "  [124 113  95]\n",
      "  [122 114  95]\n",
      "  ..., \n",
      "  [130 119 101]\n",
      "  [132 121 103]\n",
      "  [136 124 108]]\n",
      "\n",
      " [[123 112  94]\n",
      "  [124 113  95]\n",
      "  [123 115  96]\n",
      "  ..., \n",
      "  [130 119 101]\n",
      "  [131 120 102]\n",
      "  [133 121 105]]\n",
      "\n",
      " [[121 110  92]\n",
      "  [121 113  94]\n",
      "  [122 114  95]\n",
      "  ..., \n",
      "  [132 121 103]\n",
      "  [130 119 101]\n",
      "  [131 119 103]]]\n"
     ]
    }
   ],
   "source": [
    "print(img_car)"
   ]
  },
  {
   "cell_type": "code",
   "execution_count": null,
   "metadata": {
    "collapsed": true
   },
   "outputs": [],
   "source": []
  }
 ],
 "metadata": {
  "kernelspec": {
   "display_name": "Python 3",
   "language": "python",
   "name": "python3"
  },
  "language_info": {
   "codemirror_mode": {
    "name": "ipython",
    "version": 3
   },
   "file_extension": ".py",
   "mimetype": "text/x-python",
   "name": "python",
   "nbconvert_exporter": "python",
   "pygments_lexer": "ipython3",
   "version": "3.6.1"
  }
 },
 "nbformat": 4,
 "nbformat_minor": 2
}
